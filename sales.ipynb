{
  "nbformat": 4,
  "nbformat_minor": 0,
  "metadata": {
    "colab": {
      "provenance": []
    },
    "kernelspec": {
      "name": "python3",
      "display_name": "Python 3"
    },
    "language_info": {
      "name": "python"
    }
  },
  "cells": [
    {
      "cell_type": "code",
      "execution_count": 1,
      "metadata": {
        "id": "BlB_UmlEZWHy"
      },
      "outputs": [],
      "source": [
        "import pandas as pd"
      ]
    },
    {
      "cell_type": "code",
      "source": [
        "df=pd.read_csv('/content/Sales_add.csv')"
      ],
      "metadata": {
        "id": "j2d__-bGa0FX"
      },
      "execution_count": 2,
      "outputs": []
    },
    {
      "cell_type": "code",
      "source": [
        "avg_sales_before_digital=df['Sales_before_digital_add(in $)'].mean()"
      ],
      "metadata": {
        "id": "CjCeoLw2a_hk"
      },
      "execution_count": 4,
      "outputs": []
    },
    {
      "cell_type": "code",
      "source": [
        "avg_sales_after_digital=df['Sales_After_digital_add(in $)'].mean()"
      ],
      "metadata": {
        "id": "YJXFqux6bz6i"
      },
      "execution_count": 6,
      "outputs": []
    },
    {
      "cell_type": "code",
      "source": [
        "if avg_sales_after_digital > avg_sales_before_digital:\n",
        "  print(\"increase\")\n",
        "elif avg_sales_after_digital < avg_sales_before_digital:\n",
        "  print(\"decrease\")\n",
        "else:\n",
        "  print(\"no change\")"
      ],
      "metadata": {
        "colab": {
          "base_uri": "https://localhost:8080/"
        },
        "id": "1lZSO7wVb-BD",
        "outputId": "e4cea978-5ce3-421b-bff2-7b87274fc962"
      },
      "execution_count": 7,
      "outputs": [
        {
          "output_type": "stream",
          "name": "stdout",
          "text": [
            "increase\n"
          ]
        }
      ]
    },
    {
      "cell_type": "code",
      "source": [
        "ct=pd.crosstab(df['Region'],df['Manager'])"
      ],
      "metadata": {
        "id": "ATWF8FByc2AG"
      },
      "execution_count": 8,
      "outputs": []
    },
    {
      "cell_type": "code",
      "source": [
        "print(ct)"
      ],
      "metadata": {
        "colab": {
          "base_uri": "https://localhost:8080/"
        },
        "id": "7qJuzHL5dEKO",
        "outputId": "0f3d7d1d-a24e-4f1d-fc73-f5c1f02f5c3d"
      },
      "execution_count": 9,
      "outputs": [
        {
          "output_type": "stream",
          "name": "stdout",
          "text": [
            "Manager     Manager - A  Manager - B  Manager - C\n",
            "Region                                           \n",
            "Region - A            4            3            3\n",
            "Region - B            4            1            2\n",
            "Region - C            1            3            1\n"
          ]
        }
      ]
    },
    {
      "cell_type": "code",
      "source": [
        "from scipy.stats import c\n"
      ],
      "metadata": {
        "id": "3GrdBfD5dJKw"
      },
      "execution_count": 14,
      "outputs": []
    },
    {
      "cell_type": "code",
      "source": [
        "chi2,p_value,dof,expected=chi2_contingency(ct)"
      ],
      "metadata": {
        "id": "C77yB1K5d0JY"
      },
      "execution_count": 15,
      "outputs": []
    },
    {
      "cell_type": "code",
      "source": [
        "alpha=0.05\n",
        "if p_value<alpha:\n",
        "  print(\"there is a significant dependency\")\n",
        "else:\n",
        "  print(\"no significant dependency\")\n"
      ],
      "metadata": {
        "colab": {
          "base_uri": "https://localhost:8080/"
        },
        "id": "7f1qHulCeWuy",
        "outputId": "28a8104f-a6b6-411c-bb68-45f1b9a4b714"
      },
      "execution_count": 16,
      "outputs": [
        {
          "output_type": "stream",
          "name": "stdout",
          "text": [
            "no significant dependency\n"
          ]
        }
      ]
    }
  ]
}
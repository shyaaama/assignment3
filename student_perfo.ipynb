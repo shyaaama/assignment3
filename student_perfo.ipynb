{
  "nbformat": 4,
  "nbformat_minor": 0,
  "metadata": {
    "colab": {
      "provenance": [],
      "toc_visible": true
    },
    "kernelspec": {
      "name": "python3",
      "display_name": "Python 3"
    },
    "language_info": {
      "name": "python"
    }
  },
  "cells": [
    {
      "cell_type": "code",
      "execution_count": 2,
      "metadata": {
        "id": "8NvdRP0IQlT1"
      },
      "outputs": [],
      "source": [
        "import pandas as pd"
      ]
    },
    {
      "cell_type": "code",
      "source": [
        "df=pd.read_csv('/content/Students_Performance.csv')"
      ],
      "metadata": {
        "id": "vF_GL4wua2CK"
      },
      "execution_count": 4,
      "outputs": []
    },
    {
      "cell_type": "code",
      "source": [
        "gender_count=df['gender'].value_counts()"
      ],
      "metadata": {
        "id": "-v1278Lnbn1o"
      },
      "execution_count": 5,
      "outputs": []
    },
    {
      "cell_type": "code",
      "source": [
        "print(gender_count)"
      ],
      "metadata": {
        "colab": {
          "base_uri": "https://localhost:8080/"
        },
        "id": "w7MH3G_nbzoW",
        "outputId": "675645e9-7b2a-4757-83c0-5f20df121552"
      },
      "execution_count": 6,
      "outputs": [
        {
          "output_type": "stream",
          "name": "stdout",
          "text": [
            "female    518\n",
            "male      482\n",
            "Name: gender, dtype: int64\n"
          ]
        }
      ]
    },
    {
      "cell_type": "code",
      "source": [
        "pare_ed_status=df['parental level of education'].describe()"
      ],
      "metadata": {
        "id": "tFFSQ4JCfB9P"
      },
      "execution_count": 7,
      "outputs": []
    },
    {
      "cell_type": "code",
      "source": [
        "print(pare_ed_status)"
      ],
      "metadata": {
        "colab": {
          "base_uri": "https://localhost:8080/"
        },
        "id": "w6UKFgmgfifx",
        "outputId": "31c044a3-c620-4e6c-f7d6-12084fa7066a"
      },
      "execution_count": 8,
      "outputs": [
        {
          "output_type": "stream",
          "name": "stdout",
          "text": [
            "count             1000\n",
            "unique               6\n",
            "top       some college\n",
            "freq               226\n",
            "Name: parental level of education, dtype: object\n"
          ]
        }
      ]
    },
    {
      "cell_type": "code",
      "source": [
        "df.groupby('parental level of education')"
      ],
      "metadata": {
        "colab": {
          "base_uri": "https://localhost:8080/"
        },
        "id": "ZB0zuolYfqer",
        "outputId": "899ae42f-ef09-4c5c-c5d3-31ea5d3e6bb0"
      },
      "execution_count": 9,
      "outputs": [
        {
          "output_type": "execute_result",
          "data": {
            "text/plain": [
              "<pandas.core.groupby.generic.DataFrameGroupBy object at 0x7ab819e67b20>"
            ]
          },
          "metadata": {},
          "execution_count": 9
        }
      ]
    },
    {
      "cell_type": "code",
      "source": [
        "mean_score_gender=df.groupby('gender').mean()[['math score','reading score','writing score']]"
      ],
      "metadata": {
        "colab": {
          "base_uri": "https://localhost:8080/"
        },
        "id": "GnvWG39mRl13",
        "outputId": "ae9917ff-4d21-41fb-9c24-a8f96e1cd710"
      },
      "execution_count": 12,
      "outputs": [
        {
          "output_type": "stream",
          "name": "stderr",
          "text": [
            "<ipython-input-12-ce1074eaa795>:1: FutureWarning: The default value of numeric_only in DataFrameGroupBy.mean is deprecated. In a future version, numeric_only will default to False. Either specify numeric_only or select only columns which should be valid for the function.\n",
            "  mean_score_gender=df.groupby('gender').mean()[['math score','reading score','writing score']]\n"
          ]
        }
      ]
    },
    {
      "cell_type": "code",
      "source": [
        "print(mean_score_gender)"
      ],
      "metadata": {
        "colab": {
          "base_uri": "https://localhost:8080/"
        },
        "id": "u5Czya0yTfd7",
        "outputId": "16f4e700-2380-4128-9be1-a1ea8efe96c8"
      },
      "execution_count": 13,
      "outputs": [
        {
          "output_type": "stream",
          "name": "stdout",
          "text": [
            "        math score  reading score  writing score\n",
            "gender                                          \n",
            "female   63.376448      72.590734      72.467181\n",
            "male     68.821577      65.545643      63.446058\n"
          ]
        }
      ]
    },
    {
      "cell_type": "code",
      "source": [
        "mean_score_course=df.groupby('test preparation course').mean()[['math score','reading score','writing score']]"
      ],
      "metadata": {
        "colab": {
          "base_uri": "https://localhost:8080/"
        },
        "id": "bU3FGz2rSxSq",
        "outputId": "41f99957-7d9e-4880-bdea-0bb7716b1eb3"
      },
      "execution_count": 11,
      "outputs": [
        {
          "output_type": "stream",
          "name": "stderr",
          "text": [
            "<ipython-input-11-263dbf61a1ca>:1: FutureWarning: The default value of numeric_only in DataFrameGroupBy.mean is deprecated. In a future version, numeric_only will default to False. Either specify numeric_only or select only columns which should be valid for the function.\n",
            "  mean_score_course=df.groupby('test preparation course').mean()[['math score','reading score','writing score']]\n"
          ]
        }
      ]
    },
    {
      "cell_type": "code",
      "source": [
        "print(mean_score_course)"
      ],
      "metadata": {
        "colab": {
          "base_uri": "https://localhost:8080/"
        },
        "id": "sREdO7NPTk9U",
        "outputId": "27a0af9b-b6c9-4fd8-be6e-314969c10cb8"
      },
      "execution_count": 14,
      "outputs": [
        {
          "output_type": "stream",
          "name": "stdout",
          "text": [
            "                         math score  reading score  writing score\n",
            "test preparation course                                          \n",
            "completed                  69.96648      74.175978      74.684358\n",
            "none                       63.78972      66.417445      64.457944\n"
          ]
        }
      ]
    },
    {
      "cell_type": "code",
      "source": [
        "std_gender=df.groupby('gender').std()[['math score','reading score','writing score']]"
      ],
      "metadata": {
        "colab": {
          "base_uri": "https://localhost:8080/"
        },
        "id": "D-9mDnQVT_RE",
        "outputId": "1a7ed2c7-b9d5-4158-f75c-10b93407575f"
      },
      "execution_count": 15,
      "outputs": [
        {
          "output_type": "stream",
          "name": "stderr",
          "text": [
            "<ipython-input-15-b1c1c3c81a81>:1: FutureWarning: The default value of numeric_only in DataFrameGroupBy.std is deprecated. In a future version, numeric_only will default to False. Either specify numeric_only or select only columns which should be valid for the function.\n",
            "  std_gender=df.groupby('gender').std()[['math score','reading score','writing score']]\n"
          ]
        }
      ]
    },
    {
      "cell_type": "code",
      "source": [
        "std_course=df.groupby('test preparation course').std()[['math score','reading score','writing score']]"
      ],
      "metadata": {
        "colab": {
          "base_uri": "https://localhost:8080/"
        },
        "id": "p3Fo7Dg9UTEN",
        "outputId": "9e5afc0b-2fcf-4deb-ff8c-ca3152c7a9c6"
      },
      "execution_count": 16,
      "outputs": [
        {
          "output_type": "stream",
          "name": "stderr",
          "text": [
            "<ipython-input-16-2549e1ebc662>:1: FutureWarning: The default value of numeric_only in DataFrameGroupBy.std is deprecated. In a future version, numeric_only will default to False. Either specify numeric_only or select only columns which should be valid for the function.\n",
            "  std_course=df.groupby('test preparation course').std()[['math score','reading score','writing score']]\n"
          ]
        }
      ]
    },
    {
      "cell_type": "code",
      "source": [
        "print(std_gender)"
      ],
      "metadata": {
        "colab": {
          "base_uri": "https://localhost:8080/"
        },
        "id": "REJsSbazUmTl",
        "outputId": "92539970-8593-48cc-bc7e-7546b75ba5c0"
      },
      "execution_count": 17,
      "outputs": [
        {
          "output_type": "stream",
          "name": "stdout",
          "text": [
            "        math score  reading score  writing score\n",
            "gender                                          \n",
            "female   16.029928      14.411018      14.844842\n",
            "male     14.556411      14.149594      14.227225\n"
          ]
        }
      ]
    },
    {
      "cell_type": "code",
      "source": [
        "print(std_course)"
      ],
      "metadata": {
        "colab": {
          "base_uri": "https://localhost:8080/"
        },
        "id": "X4fIB-VFUseO",
        "outputId": "0ff55d5c-46b2-4d4e-cef0-e26fd010f9d3"
      },
      "execution_count": 18,
      "outputs": [
        {
          "output_type": "stream",
          "name": "stdout",
          "text": [
            "                         math score  reading score  writing score\n",
            "test preparation course                                          \n",
            "completed                 14.521847      13.537572      13.236412\n",
            "none                      15.705689      14.608896      15.041667\n"
          ]
        }
      ]
    },
    {
      "cell_type": "code",
      "source": [
        "thresh_score=df['math score'].quantile(0.75)"
      ],
      "metadata": {
        "id": "P4-NomxaU84x"
      },
      "execution_count": 19,
      "outputs": []
    },
    {
      "cell_type": "code",
      "source": [
        "students=df[df['math score']>thresh_score]"
      ],
      "metadata": {
        "id": "8bE4kbRAViOK"
      },
      "execution_count": 21,
      "outputs": []
    },
    {
      "cell_type": "code",
      "source": [
        "print(students)"
      ],
      "metadata": {
        "colab": {
          "base_uri": "https://localhost:8080/"
        },
        "id": "aA4g4dTOV0md",
        "outputId": "cd02875c-d59f-4da2-b1ac-4199641645c7"
      },
      "execution_count": 22,
      "outputs": [
        {
          "output_type": "stream",
          "name": "stdout",
          "text": [
            "     gender race/ethnicity parental level of education         lunch  \\\n",
            "430  female        group A                some college      standard   \n",
            "431  female        group B           bachelor's degree  free/reduced   \n",
            "432  female        group D           bachelor's degree      standard   \n",
            "433  female        group D                 high school      standard   \n",
            "434  female        group D           bachelor's degree  free/reduced   \n",
            "..      ...            ...                         ...           ...   \n",
            "995    male        group E                some college      standard   \n",
            "996    male        group A                some college      standard   \n",
            "997    male        group D                some college      standard   \n",
            "998    male        group E          associate's degree  free/reduced   \n",
            "999    male        group E           bachelor's degree      standard   \n",
            "\n",
            "    test preparation course  math score  reading score  writing score  \n",
            "430               completed          78             87             91  \n",
            "431                    none          78             79             76  \n",
            "432                    none          78             82             79  \n",
            "433                    none          78             81             80  \n",
            "434                    none          78             90             93  \n",
            "..                      ...         ...            ...            ...  \n",
            "995               completed          99             87             81  \n",
            "996               completed         100             96             86  \n",
            "997               completed         100             97             99  \n",
            "998               completed         100            100             93  \n",
            "999               completed         100            100            100  \n",
            "\n",
            "[231 rows x 8 columns]\n"
          ]
        }
      ]
    },
    {
      "cell_type": "code",
      "source": [
        "bonus=5\n",
        "students['bonus_points']=bonus"
      ],
      "metadata": {
        "colab": {
          "base_uri": "https://localhost:8080/"
        },
        "id": "UlY-BUcmWWUN",
        "outputId": "f7de8731-1c00-403a-dc23-a086898d89a8"
      },
      "execution_count": 23,
      "outputs": [
        {
          "output_type": "stream",
          "name": "stderr",
          "text": [
            "<ipython-input-23-d4fe1b88d39e>:2: SettingWithCopyWarning: \n",
            "A value is trying to be set on a copy of a slice from a DataFrame.\n",
            "Try using .loc[row_indexer,col_indexer] = value instead\n",
            "\n",
            "See the caveats in the documentation: https://pandas.pydata.org/pandas-docs/stable/user_guide/indexing.html#returning-a-view-versus-a-copy\n",
            "  students['bonus_points']=bonus\n"
          ]
        }
      ]
    },
    {
      "cell_type": "code",
      "source": [
        "print(students)"
      ],
      "metadata": {
        "colab": {
          "base_uri": "https://localhost:8080/"
        },
        "id": "yCiQX7HLWjdi",
        "outputId": "75b38180-0e61-45e3-8277-eab4e3bbbbd3"
      },
      "execution_count": 24,
      "outputs": [
        {
          "output_type": "stream",
          "name": "stdout",
          "text": [
            "     gender race/ethnicity parental level of education         lunch  \\\n",
            "430  female        group A                some college      standard   \n",
            "431  female        group B           bachelor's degree  free/reduced   \n",
            "432  female        group D           bachelor's degree      standard   \n",
            "433  female        group D                 high school      standard   \n",
            "434  female        group D           bachelor's degree  free/reduced   \n",
            "..      ...            ...                         ...           ...   \n",
            "995    male        group E                some college      standard   \n",
            "996    male        group A                some college      standard   \n",
            "997    male        group D                some college      standard   \n",
            "998    male        group E          associate's degree  free/reduced   \n",
            "999    male        group E           bachelor's degree      standard   \n",
            "\n",
            "    test preparation course  math score  reading score  writing score  \\\n",
            "430               completed          78             87             91   \n",
            "431                    none          78             79             76   \n",
            "432                    none          78             82             79   \n",
            "433                    none          78             81             80   \n",
            "434                    none          78             90             93   \n",
            "..                      ...         ...            ...            ...   \n",
            "995               completed          99             87             81   \n",
            "996               completed         100             96             86   \n",
            "997               completed         100             97             99   \n",
            "998               completed         100            100             93   \n",
            "999               completed         100            100            100   \n",
            "\n",
            "     bonus_points  \n",
            "430             5  \n",
            "431             5  \n",
            "432             5  \n",
            "433             5  \n",
            "434             5  \n",
            "..            ...  \n",
            "995             5  \n",
            "996             5  \n",
            "997             5  \n",
            "998             5  \n",
            "999             5  \n",
            "\n",
            "[231 rows x 9 columns]\n"
          ]
        }
      ]
    }
  ]
}